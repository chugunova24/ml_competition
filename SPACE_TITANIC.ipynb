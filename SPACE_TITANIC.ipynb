{
  "nbformat": 4,
  "nbformat_minor": 0,
  "metadata": {
    "colab": {
      "provenance": []
    },
    "kernelspec": {
      "name": "python3",
      "display_name": "Python 3"
    },
    "language_info": {
      "name": "python"
    }
  },
  "cells": [
    {
      "cell_type": "code",
      "source": [
        "import pandas as pd\n",
        "import matplotlib.pyplot as plt\n",
        "import seaborn as sns\n",
        "import numpy as np\n",
        "from scipy.stats import norm\n",
        "from sklearn.preprocessing import StandardScaler\n",
        "from scipy import stats\n",
        "import warnings\n",
        "warnings.filterwarnings('ignore')\n",
        "%matplotlib inline"
      ],
      "metadata": {
        "id": "5PnDfdQd-QdD"
      },
      "execution_count": null,
      "outputs": []
    },
    {
      "cell_type": "markdown",
      "source": [
        "**train и test**"
      ],
      "metadata": {
        "id": "sQ88negz-1Rg"
      }
    },
    {
      "cell_type": "code",
      "source": [
        "train_orig = pd.read_csv('/content/data/train.csv')\n",
        "test_orig = pd.read_csv('/content/data/test.csv')"
      ],
      "metadata": {
        "id": "Z6_J4ArY-ylm"
      },
      "execution_count": null,
      "outputs": []
    },
    {
      "cell_type": "code",
      "source": [
        "train = train_orig.copy()\n",
        "test = test_orig.copy()"
      ],
      "metadata": {
        "id": "BOeANZGY0zYC"
      },
      "execution_count": null,
      "outputs": []
    },
    {
      "cell_type": "code",
      "source": [
        "print(train.shape)\n",
        "print(test.shape)"
      ],
      "metadata": {
        "colab": {
          "base_uri": "https://localhost:8080/"
        },
        "id": "PVMmGYGe-yn0",
        "outputId": "a70c29a2-fcba-465b-edd7-e63186da943e"
      },
      "execution_count": null,
      "outputs": [
        {
          "output_type": "stream",
          "name": "stdout",
          "text": [
            "(8693, 14)\n",
            "(4277, 13)\n"
          ]
        }
      ]
    },
    {
      "cell_type": "markdown",
      "source": [
        "**Data analysis**"
      ],
      "metadata": {
        "id": "vA6UDo2cA07a"
      }
    },
    {
      "cell_type": "code",
      "source": [
        "train.isnull().sum()"
      ],
      "metadata": {
        "colab": {
          "base_uri": "https://localhost:8080/"
        },
        "id": "FLUDhsxU-ysR",
        "outputId": "49f158a7-4f68-4a8b-b92a-1bf0fc11ee2b"
      },
      "execution_count": null,
      "outputs": [
        {
          "output_type": "execute_result",
          "data": {
            "text/plain": [
              "PassengerId       0\n",
              "HomePlanet      201\n",
              "CryoSleep       217\n",
              "Cabin           199\n",
              "Destination     182\n",
              "Age             179\n",
              "VIP             203\n",
              "RoomService     181\n",
              "FoodCourt       183\n",
              "ShoppingMall    208\n",
              "Spa             183\n",
              "VRDeck          188\n",
              "Name            200\n",
              "Transported       0\n",
              "dtype: int64"
            ]
          },
          "metadata": {},
          "execution_count": 6
        }
      ]
    },
    {
      "cell_type": "code",
      "source": [
        "train = train.drop(['Name'], axis=1)\n",
        "test = test.drop(['Name'], axis=1)"
      ],
      "metadata": {
        "id": "UhIUq15xBzXF"
      },
      "execution_count": null,
      "outputs": []
    },
    {
      "cell_type": "code",
      "source": [
        "from sklearn.preprocessing import LabelEncoder\n",
        "\n",
        "cols = ['Transported',]\n",
        "\n",
        "for c in cols:\n",
        "    lbl = LabelEncoder() \n",
        "    lbl.fit(list(train[c].values)) \n",
        "    train[c] = lbl.transform(list(train[c].values))\n",
        "    # test[c] = lbl.transform(list(test[c].values))\n",
        "\n",
        "print('Shape all_data: {}'.format(train.shape))"
      ],
      "metadata": {
        "colab": {
          "base_uri": "https://localhost:8080/"
        },
        "id": "KDKSQOxC-y0h",
        "outputId": "b270f110-573e-49d5-d92c-070368f0b848"
      },
      "execution_count": null,
      "outputs": [
        {
          "output_type": "stream",
          "name": "stdout",
          "text": [
            "Shape all_data: (8693, 13)\n"
          ]
        }
      ]
    },
    {
      "cell_type": "code",
      "source": [
        "train.head()"
      ],
      "metadata": {
        "colab": {
          "base_uri": "https://localhost:8080/",
          "height": 270
        },
        "id": "DQqOAHIUDKna",
        "outputId": "0cd91857-0656-4830-fae2-f5cd92568d64"
      },
      "execution_count": null,
      "outputs": [
        {
          "output_type": "execute_result",
          "data": {
            "text/plain": [
              "  PassengerId HomePlanet CryoSleep  Cabin  Destination   Age    VIP  \\\n",
              "0     0001_01     Europa     False  B/0/P  TRAPPIST-1e  39.0  False   \n",
              "1     0002_01      Earth     False  F/0/S  TRAPPIST-1e  24.0  False   \n",
              "2     0003_01     Europa     False  A/0/S  TRAPPIST-1e  58.0   True   \n",
              "3     0003_02     Europa     False  A/0/S  TRAPPIST-1e  33.0  False   \n",
              "4     0004_01      Earth     False  F/1/S  TRAPPIST-1e  16.0  False   \n",
              "\n",
              "   RoomService  FoodCourt  ShoppingMall     Spa  VRDeck  Transported  \n",
              "0          0.0        0.0           0.0     0.0     0.0            0  \n",
              "1        109.0        9.0          25.0   549.0    44.0            1  \n",
              "2         43.0     3576.0           0.0  6715.0    49.0            0  \n",
              "3          0.0     1283.0         371.0  3329.0   193.0            0  \n",
              "4        303.0       70.0         151.0   565.0     2.0            1  "
            ],
            "text/html": [
              "\n",
              "  <div id=\"df-08fcd24f-5272-48d4-9532-2ac4af940696\">\n",
              "    <div class=\"colab-df-container\">\n",
              "      <div>\n",
              "<style scoped>\n",
              "    .dataframe tbody tr th:only-of-type {\n",
              "        vertical-align: middle;\n",
              "    }\n",
              "\n",
              "    .dataframe tbody tr th {\n",
              "        vertical-align: top;\n",
              "    }\n",
              "\n",
              "    .dataframe thead th {\n",
              "        text-align: right;\n",
              "    }\n",
              "</style>\n",
              "<table border=\"1\" class=\"dataframe\">\n",
              "  <thead>\n",
              "    <tr style=\"text-align: right;\">\n",
              "      <th></th>\n",
              "      <th>PassengerId</th>\n",
              "      <th>HomePlanet</th>\n",
              "      <th>CryoSleep</th>\n",
              "      <th>Cabin</th>\n",
              "      <th>Destination</th>\n",
              "      <th>Age</th>\n",
              "      <th>VIP</th>\n",
              "      <th>RoomService</th>\n",
              "      <th>FoodCourt</th>\n",
              "      <th>ShoppingMall</th>\n",
              "      <th>Spa</th>\n",
              "      <th>VRDeck</th>\n",
              "      <th>Transported</th>\n",
              "    </tr>\n",
              "  </thead>\n",
              "  <tbody>\n",
              "    <tr>\n",
              "      <th>0</th>\n",
              "      <td>0001_01</td>\n",
              "      <td>Europa</td>\n",
              "      <td>False</td>\n",
              "      <td>B/0/P</td>\n",
              "      <td>TRAPPIST-1e</td>\n",
              "      <td>39.0</td>\n",
              "      <td>False</td>\n",
              "      <td>0.0</td>\n",
              "      <td>0.0</td>\n",
              "      <td>0.0</td>\n",
              "      <td>0.0</td>\n",
              "      <td>0.0</td>\n",
              "      <td>0</td>\n",
              "    </tr>\n",
              "    <tr>\n",
              "      <th>1</th>\n",
              "      <td>0002_01</td>\n",
              "      <td>Earth</td>\n",
              "      <td>False</td>\n",
              "      <td>F/0/S</td>\n",
              "      <td>TRAPPIST-1e</td>\n",
              "      <td>24.0</td>\n",
              "      <td>False</td>\n",
              "      <td>109.0</td>\n",
              "      <td>9.0</td>\n",
              "      <td>25.0</td>\n",
              "      <td>549.0</td>\n",
              "      <td>44.0</td>\n",
              "      <td>1</td>\n",
              "    </tr>\n",
              "    <tr>\n",
              "      <th>2</th>\n",
              "      <td>0003_01</td>\n",
              "      <td>Europa</td>\n",
              "      <td>False</td>\n",
              "      <td>A/0/S</td>\n",
              "      <td>TRAPPIST-1e</td>\n",
              "      <td>58.0</td>\n",
              "      <td>True</td>\n",
              "      <td>43.0</td>\n",
              "      <td>3576.0</td>\n",
              "      <td>0.0</td>\n",
              "      <td>6715.0</td>\n",
              "      <td>49.0</td>\n",
              "      <td>0</td>\n",
              "    </tr>\n",
              "    <tr>\n",
              "      <th>3</th>\n",
              "      <td>0003_02</td>\n",
              "      <td>Europa</td>\n",
              "      <td>False</td>\n",
              "      <td>A/0/S</td>\n",
              "      <td>TRAPPIST-1e</td>\n",
              "      <td>33.0</td>\n",
              "      <td>False</td>\n",
              "      <td>0.0</td>\n",
              "      <td>1283.0</td>\n",
              "      <td>371.0</td>\n",
              "      <td>3329.0</td>\n",
              "      <td>193.0</td>\n",
              "      <td>0</td>\n",
              "    </tr>\n",
              "    <tr>\n",
              "      <th>4</th>\n",
              "      <td>0004_01</td>\n",
              "      <td>Earth</td>\n",
              "      <td>False</td>\n",
              "      <td>F/1/S</td>\n",
              "      <td>TRAPPIST-1e</td>\n",
              "      <td>16.0</td>\n",
              "      <td>False</td>\n",
              "      <td>303.0</td>\n",
              "      <td>70.0</td>\n",
              "      <td>151.0</td>\n",
              "      <td>565.0</td>\n",
              "      <td>2.0</td>\n",
              "      <td>1</td>\n",
              "    </tr>\n",
              "  </tbody>\n",
              "</table>\n",
              "</div>\n",
              "      <button class=\"colab-df-convert\" onclick=\"convertToInteractive('df-08fcd24f-5272-48d4-9532-2ac4af940696')\"\n",
              "              title=\"Convert this dataframe to an interactive table.\"\n",
              "              style=\"display:none;\">\n",
              "        \n",
              "  <svg xmlns=\"http://www.w3.org/2000/svg\" height=\"24px\"viewBox=\"0 0 24 24\"\n",
              "       width=\"24px\">\n",
              "    <path d=\"M0 0h24v24H0V0z\" fill=\"none\"/>\n",
              "    <path d=\"M18.56 5.44l.94 2.06.94-2.06 2.06-.94-2.06-.94-.94-2.06-.94 2.06-2.06.94zm-11 1L8.5 8.5l.94-2.06 2.06-.94-2.06-.94L8.5 2.5l-.94 2.06-2.06.94zm10 10l.94 2.06.94-2.06 2.06-.94-2.06-.94-.94-2.06-.94 2.06-2.06.94z\"/><path d=\"M17.41 7.96l-1.37-1.37c-.4-.4-.92-.59-1.43-.59-.52 0-1.04.2-1.43.59L10.3 9.45l-7.72 7.72c-.78.78-.78 2.05 0 2.83L4 21.41c.39.39.9.59 1.41.59.51 0 1.02-.2 1.41-.59l7.78-7.78 2.81-2.81c.8-.78.8-2.07 0-2.86zM5.41 20L4 18.59l7.72-7.72 1.47 1.35L5.41 20z\"/>\n",
              "  </svg>\n",
              "      </button>\n",
              "      \n",
              "  <style>\n",
              "    .colab-df-container {\n",
              "      display:flex;\n",
              "      flex-wrap:wrap;\n",
              "      gap: 12px;\n",
              "    }\n",
              "\n",
              "    .colab-df-convert {\n",
              "      background-color: #E8F0FE;\n",
              "      border: none;\n",
              "      border-radius: 50%;\n",
              "      cursor: pointer;\n",
              "      display: none;\n",
              "      fill: #1967D2;\n",
              "      height: 32px;\n",
              "      padding: 0 0 0 0;\n",
              "      width: 32px;\n",
              "    }\n",
              "\n",
              "    .colab-df-convert:hover {\n",
              "      background-color: #E2EBFA;\n",
              "      box-shadow: 0px 1px 2px rgba(60, 64, 67, 0.3), 0px 1px 3px 1px rgba(60, 64, 67, 0.15);\n",
              "      fill: #174EA6;\n",
              "    }\n",
              "\n",
              "    [theme=dark] .colab-df-convert {\n",
              "      background-color: #3B4455;\n",
              "      fill: #D2E3FC;\n",
              "    }\n",
              "\n",
              "    [theme=dark] .colab-df-convert:hover {\n",
              "      background-color: #434B5C;\n",
              "      box-shadow: 0px 1px 3px 1px rgba(0, 0, 0, 0.15);\n",
              "      filter: drop-shadow(0px 1px 2px rgba(0, 0, 0, 0.3));\n",
              "      fill: #FFFFFF;\n",
              "    }\n",
              "  </style>\n",
              "\n",
              "      <script>\n",
              "        const buttonEl =\n",
              "          document.querySelector('#df-08fcd24f-5272-48d4-9532-2ac4af940696 button.colab-df-convert');\n",
              "        buttonEl.style.display =\n",
              "          google.colab.kernel.accessAllowed ? 'block' : 'none';\n",
              "\n",
              "        async function convertToInteractive(key) {\n",
              "          const element = document.querySelector('#df-08fcd24f-5272-48d4-9532-2ac4af940696');\n",
              "          const dataTable =\n",
              "            await google.colab.kernel.invokeFunction('convertToInteractive',\n",
              "                                                     [key], {});\n",
              "          if (!dataTable) return;\n",
              "\n",
              "          const docLinkHtml = 'Like what you see? Visit the ' +\n",
              "            '<a target=\"_blank\" href=https://colab.research.google.com/notebooks/data_table.ipynb>data table notebook</a>'\n",
              "            + ' to learn more about interactive tables.';\n",
              "          element.innerHTML = '';\n",
              "          dataTable['output_type'] = 'display_data';\n",
              "          await google.colab.output.renderOutput(dataTable, element);\n",
              "          const docLink = document.createElement('div');\n",
              "          docLink.innerHTML = docLinkHtml;\n",
              "          element.appendChild(docLink);\n",
              "        }\n",
              "      </script>\n",
              "    </div>\n",
              "  </div>\n",
              "  "
            ]
          },
          "metadata": {},
          "execution_count": 9
        }
      ]
    },
    {
      "cell_type": "markdown",
      "source": [
        "Анализ влияния категориальных признаков"
      ],
      "metadata": {
        "id": "G7PSBn_BJjW-"
      }
    },
    {
      "cell_type": "code",
      "source": [
        "sns.catplot(x='HomePlanet',\n",
        "            y='Transported',\n",
        "            kind='bar',\n",
        "            data=train);\n",
        "\n",
        "# вероятность перенестись выше, если ты с Европы или Марса и меньше, если с Земли"
      ],
      "metadata": {
        "colab": {
          "base_uri": "https://localhost:8080/",
          "height": 369
        },
        "id": "2SxTmzP-D4PE",
        "outputId": "4efc0141-725d-46ac-eeb9-40746e83cfd1"
      },
      "execution_count": null,
      "outputs": [
        {
          "output_type": "display_data",
          "data": {
            "text/plain": [
              "<Figure size 360x360 with 1 Axes>"
            ],
            "image/png": "[encoded data removed]"
          },
          "metadata": {
            "needs_background": "light"
          }
        }
      ]
    },
    {
      "cell_type": "code",
      "source": [
        "sns.catplot(x='Destination',\n",
        "            y='Transported',\n",
        "            kind='bar',\n",
        "            data=train);\n",
        "\n",
        "# вероятность перенестись выше, если пункт назначения 55 Cancri e"
      ],
      "metadata": {
        "colab": {
          "base_uri": "https://localhost:8080/",
          "height": 369
        },
        "id": "x0fV75g0IqU-",
        "outputId": "cfc8409e-0a97-44ac-9a38-35b14d1ac447"
      },
      "execution_count": null,
      "outputs": [
        {
          "output_type": "display_data",
          "data": {
            "text/plain": [
              "<Figure size 360x360 with 1 Axes>"
            ],
            "image/png": "[encoded data removed]"
          },
          "metadata": {
            "needs_background": "light"
          }
        }
      ]
    },
    {
      "cell_type": "code",
      "source": [
        "sns.catplot(x='CryoSleep',\n",
        "            y='Transported',\n",
        "            kind='bar',\n",
        "            data=train);\n",
        "\n",
        "# вероятность перенестись выше, если пребывал в криосне"
      ],
      "metadata": {
        "colab": {
          "base_uri": "https://localhost:8080/",
          "height": 369
        },
        "id": "WFILg2k3HFPg",
        "outputId": "5fa60b0d-4d66-435b-f67c-08ebba06ccbf"
      },
      "execution_count": null,
      "outputs": [
        {
          "output_type": "display_data",
          "data": {
            "text/plain": [
              "<Figure size 360x360 with 1 Axes>"
            ],
            "image/png": "[encoded data removed]"
          },
          "metadata": {
            "needs_background": "light"
          }
        }
      ]
    },
    {
      "cell_type": "code",
      "source": [
        "sns.catplot(x='VIP',\n",
        "            y='Transported',\n",
        "            kind='bar',\n",
        "            data=train);\n",
        "\n",
        "# вероятность перенестись ниже, если оплатил VIP-обслуживание"
      ],
      "metadata": {
        "colab": {
          "base_uri": "https://localhost:8080/",
          "height": 369
        },
        "id": "oxW4JLHXEjY_",
        "outputId": "7b3f4351-b837-4475-e86f-7b41940435b1"
      },
      "execution_count": null,
      "outputs": [
        {
          "output_type": "display_data",
          "data": {
            "text/plain": [
              "<Figure size 360x360 with 1 Axes>"
            ],
            "image/png": "[encoded data removed]"
          },
          "metadata": {
            "needs_background": "light"
          }
        }
      ]
    },
    {
      "cell_type": "markdown",
      "source": [
        "Анализ значимости числовых признаков"
      ],
      "metadata": {
        "id": "zF_YD0D9J0YK"
      }
    },
    {
      "cell_type": "code",
      "source": [
        "# train['cost_of_lux_amn'] = train['RoomService'] + train['FoodCourt'] + train['ShoppingMall'] + train['Spa'] + train['VRDeck']\n",
        "train['cost_of_lux_amn'] = train['RoomService'] + train['Spa'] + train['VRDeck']"
      ],
      "metadata": {
        "id": "DEgFgQ2TTR6g"
      },
      "execution_count": null,
      "outputs": []
    },
    {
      "cell_type": "code",
      "source": [
        "corrmat = train.corr()\n",
        "plt.figure(figsize=(8, 8))\n",
        "sns.heatmap(corrmat, vmax=.8, square=True, annot=True)"
      ],
      "metadata": {
        "colab": {
          "base_uri": "https://localhost:8080/",
          "height": 539
        },
        "id": "YmSXZ6VbDzSb",
        "outputId": "cdc158e6-235b-4756-c5ce-5cc0b6c5dfa7"
      },
      "execution_count": null,
      "outputs": [
        {
          "output_type": "execute_result",
          "data": {
            "text/plain": [
              "<matplotlib.axes._subplots.AxesSubplot at 0x7f3d54907100>"
            ]
          },
          "metadata": {},
          "execution_count": 15
        },
        {
          "output_type": "display_data",
          "data": {
            "text/plain": [
              "<Figure size 576x576 with 2 Axes>"
            ],
            "image/png": "[encoded data removed]"
          },
          "metadata": {
            "needs_background": "light"
          }
        }
      ]
    },
    {
      "cell_type": "code",
      "source": [
        "# RoomService, Spa, VRDeck, cost_of_lux_amn - имеют больше влияния на \"перенос\", чем другие числовые хар-ки"
      ],
      "metadata": {
        "id": "CYVZZ4DXIddJ"
      },
      "execution_count": null,
      "outputs": []
    },
    {
      "cell_type": "markdown",
      "source": [
        "**Conclusion Data analysis**\n",
        "\n",
        "1) вероятность перенестись выше, если ты с Европы или Марса и меньше, если с Земли\n",
        "\n",
        "2) вероятность перенестись выше, если пункт назначения 55 Cancri e\n",
        "\n",
        "3) вероятность перенестись выше, если пребывал в криосне\n",
        "\n",
        "4) вероятность перенестись ниже, если оплатил VIP-обслуживание\n",
        "\n",
        "5) RoomService, Spa, VRDeck, cost_of_lux_amn - имеют больше влияния на \"перенос\", чем другие числовые хар-ки"
      ],
      "metadata": {
        "id": "SaobOXMxHoiW"
      }
    },
    {
      "cell_type": "markdown",
      "source": [
        "**Preprocessing of data**"
      ],
      "metadata": {
        "id": "l26uf2EWSIGL"
      }
    },
    {
      "cell_type": "code",
      "source": [
        "train.dtypes"
      ],
      "metadata": {
        "colab": {
          "base_uri": "https://localhost:8080/"
        },
        "id": "XrPI33ZcIdgH",
        "outputId": "eea50b7c-cc0f-4525-cd05-5e44084d7b0d"
      },
      "execution_count": null,
      "outputs": [
        {
          "output_type": "execute_result",
          "data": {
            "text/plain": [
              "PassengerId         object\n",
              "HomePlanet          object\n",
              "CryoSleep           object\n",
              "Cabin               object\n",
              "Destination         object\n",
              "Age                float64\n",
              "VIP                 object\n",
              "RoomService        float64\n",
              "FoodCourt          float64\n",
              "ShoppingMall       float64\n",
              "Spa                float64\n",
              "VRDeck             float64\n",
              "Transported          int64\n",
              "cost_of_lux_amn    float64\n",
              "dtype: object"
            ]
          },
          "metadata": {},
          "execution_count": 17
        }
      ]
    },
    {
      "cell_type": "markdown",
      "source": [
        "Удаление колонок.\n",
        "Процент значений Nan в колонках очень маленький, параметры статистически значимы, поэтому удалять колонки не следует. Заполним строки с Nan значениями."
      ],
      "metadata": {
        "id": "AR1r6y1HVpzl"
      }
    },
    {
      "cell_type": "code",
      "source": [
        "train.isnull().mean()"
      ],
      "metadata": {
        "colab": {
          "base_uri": "https://localhost:8080/"
        },
        "id": "4hvoRBhGVtUP",
        "outputId": "4ceeb303-4461-4e08-cc73-b52763baf9f2"
      },
      "execution_count": null,
      "outputs": [
        {
          "output_type": "execute_result",
          "data": {
            "text/plain": [
              "PassengerId        0.000000\n",
              "HomePlanet         0.023122\n",
              "CryoSleep          0.024963\n",
              "Cabin              0.022892\n",
              "Destination        0.020936\n",
              "Age                0.020591\n",
              "VIP                0.023352\n",
              "RoomService        0.020821\n",
              "FoodCourt          0.021051\n",
              "ShoppingMall       0.023927\n",
              "Spa                0.021051\n",
              "VRDeck             0.021627\n",
              "Transported        0.000000\n",
              "cost_of_lux_amn    0.062579\n",
              "dtype: float64"
            ]
          },
          "metadata": {},
          "execution_count": 18
        }
      ]
    },
    {
      "cell_type": "code",
      "source": [
        "# threshold = 0.4\n",
        "# data = train[train.columns[train.isnull().mean() < threshold]]"
      ],
      "metadata": {
        "id": "5NH3YlcbXw-t"
      },
      "execution_count": null,
      "outputs": []
    },
    {
      "cell_type": "code",
      "source": [
        "Y = train['Transported']"
      ],
      "metadata": {
        "id": "taOprdc5xfgI"
      },
      "execution_count": null,
      "outputs": []
    },
    {
      "cell_type": "code",
      "source": [
        "train = train.drop( ['PassengerId', 'FoodCourt', 'ShoppingMall', 'Cabin', 'Transported'], axis=1)\n",
        "test = test.drop( ['PassengerId', 'FoodCourt', 'ShoppingMall', 'Cabin'], axis=1)"
      ],
      "metadata": {
        "id": "iJaviXqAcZQa"
      },
      "execution_count": null,
      "outputs": []
    },
    {
      "cell_type": "code",
      "source": [
        "cols = train.select_dtypes(include='object').columns"
      ],
      "metadata": {
        "id": "oNFBfc33Yil7"
      },
      "execution_count": null,
      "outputs": []
    },
    {
      "cell_type": "code",
      "source": [
        "cols"
      ],
      "metadata": {
        "colab": {
          "base_uri": "https://localhost:8080/"
        },
        "id": "Kg7tnOmDYkGm",
        "outputId": "ae17579b-6375-42f6-dd9d-0b7714ba9f3e"
      },
      "execution_count": null,
      "outputs": [
        {
          "output_type": "execute_result",
          "data": {
            "text/plain": [
              "Index(['HomePlanet', 'CryoSleep', 'Destination', 'VIP'], dtype='object')"
            ]
          },
          "metadata": {},
          "execution_count": 23
        }
      ]
    },
    {
      "cell_type": "code",
      "source": [
        "from sklearn.preprocessing import LabelEncoder\n",
        "\n",
        "cols = train.select_dtypes(include='object').columns\n",
        "\n",
        "for c in cols:\n",
        "    lbl = LabelEncoder() \n",
        "    lbl.fit(list(train[c].values)) \n",
        "    train[c] = lbl.transform(list(train[c].values))\n",
        "    test[c] = lbl.transform(list(test[c].values))\n",
        "\n",
        "print('Shape all_data: {}'.format(train.shape))"
      ],
      "metadata": {
        "colab": {
          "base_uri": "https://localhost:8080/"
        },
        "id": "moZL5yy1X0Un",
        "outputId": "52112060-230b-4c4b-df78-76bba5252212"
      },
      "execution_count": null,
      "outputs": [
        {
          "output_type": "stream",
          "name": "stdout",
          "text": [
            "Shape all_data: (8693, 9)\n"
          ]
        }
      ]
    },
    {
      "cell_type": "markdown",
      "source": [
        "Заполнение пропусков"
      ],
      "metadata": {
        "id": "AysmffhUfmSy"
      }
    },
    {
      "cell_type": "code",
      "source": [
        "train[['RoomService', 'Spa', 'VRDeck']] = train[['RoomService', 'Spa', 'VRDeck']].fillna (0)\n",
        "test[['RoomService', 'Spa', 'VRDeck']] = test[['RoomService', 'Spa', 'VRDeck']].fillna (0)"
      ],
      "metadata": {
        "id": "EL_A7nRzYYi5"
      },
      "execution_count": null,
      "outputs": []
    },
    {
      "cell_type": "code",
      "source": [
        "train['cost_of_lux_amn'] = train['RoomService'] + train['Spa'] + train['VRDeck']\n",
        "test['cost_of_lux_amn'] = test['RoomService'] + test['Spa'] + test['VRDeck']"
      ],
      "metadata": {
        "id": "Dkt_pwOlfl5l"
      },
      "execution_count": null,
      "outputs": []
    },
    {
      "cell_type": "code",
      "source": [
        "# train[train.isnull().any(1)].head()"
      ],
      "metadata": {
        "id": "vcIv0geuqZEr"
      },
      "execution_count": null,
      "outputs": []
    },
    {
      "cell_type": "code",
      "source": [
        "train.isnull().sum()"
      ],
      "metadata": {
        "colab": {
          "base_uri": "https://localhost:8080/"
        },
        "id": "vvXytXEFYYnP",
        "outputId": "c9a51028-94ea-4e8c-b0ba-60947874906d"
      },
      "execution_count": null,
      "outputs": [
        {
          "output_type": "execute_result",
          "data": {
            "text/plain": [
              "HomePlanet           0\n",
              "CryoSleep            0\n",
              "Destination          0\n",
              "Age                179\n",
              "VIP                  0\n",
              "RoomService          0\n",
              "Spa                  0\n",
              "VRDeck               0\n",
              "cost_of_lux_amn      0\n",
              "dtype: int64"
            ]
          },
          "metadata": {},
          "execution_count": 28
        }
      ]
    },
    {
      "cell_type": "code",
      "source": [
        "data = [train, test]\n",
        "for dataset in data:\n",
        "    mean = train[\"Age\"].mean()\n",
        "    std = test[\"Age\"].std()\n",
        "    is_null = dataset[\"Age\"].isnull().sum()\n",
        "    rand_age = np.random.randint(mean - std, mean + std, size = is_null)\n",
        "    age_slice = dataset[\"Age\"].copy()\n",
        "    age_slice[np.isnan(age_slice)] = rand_age\n",
        "    dataset[\"Age\"] = age_slice\n",
        "    dataset[\"Age\"] = train[\"Age\"].astype(int)"
      ],
      "metadata": {
        "id": "jEmNLa2LuMMV"
      },
      "execution_count": null,
      "outputs": []
    },
    {
      "cell_type": "code",
      "source": [
        "train.head()"
      ],
      "metadata": {
        "colab": {
          "base_uri": "https://localhost:8080/",
          "height": 250
        },
        "id": "4AK_uR1wxX9I",
        "outputId": "3e223ab4-9fb5-4afc-b606-f3d903319dd0"
      },
      "execution_count": null,
      "outputs": [
        {
          "output_type": "execute_result",
          "data": {
            "text/plain": [
              "   HomePlanet  CryoSleep  Destination  Age  VIP  RoomService     Spa  VRDeck  \\\n",
              "0           1          0            2   39    0          0.0     0.0     0.0   \n",
              "1           0          0            2   24    0        109.0   549.0    44.0   \n",
              "2           1          0            2   58    1         43.0  6715.0    49.0   \n",
              "3           1          0            2   33    0          0.0  3329.0   193.0   \n",
              "4           0          0            2   16    0        303.0   565.0     2.0   \n",
              "\n",
              "   cost_of_lux_amn  \n",
              "0              0.0  \n",
              "1            702.0  \n",
              "2           6807.0  \n",
              "3           3522.0  \n",
              "4            870.0  "
            ],
            "text/html": [
              "\n",
              "  <div id=\"df-fd66f20c-997f-40b3-b273-9c82c06b05ad\">\n",
              "    <div class=\"colab-df-container\">\n",
              "      <div>\n",
              "<style scoped>\n",
              "    .dataframe tbody tr th:only-of-type {\n",
              "        vertical-align: middle;\n",
              "    }\n",
              "\n",
              "    .dataframe tbody tr th {\n",
              "        vertical-align: top;\n",
              "    }\n",
              "\n",
              "    .dataframe thead th {\n",
              "        text-align: right;\n",
              "    }\n",
              "</style>\n",
              "<table border=\"1\" class=\"dataframe\">\n",
              "  <thead>\n",
              "    <tr style=\"text-align: right;\">\n",
              "      <th></th>\n",
              "      <th>HomePlanet</th>\n",
              "      <th>CryoSleep</th>\n",
              "      <th>Destination</th>\n",
              "      <th>Age</th>\n",
              "      <th>VIP</th>\n",
              "      <th>RoomService</th>\n",
              "      <th>Spa</th>\n",
              "      <th>VRDeck</th>\n",
              "      <th>cost_of_lux_amn</th>\n",
              "    </tr>\n",
              "  </thead>\n",
              "  <tbody>\n",
              "    <tr>\n",
              "      <th>0</th>\n",
              "      <td>1</td>\n",
              "      <td>0</td>\n",
              "      <td>2</td>\n",
              "      <td>39</td>\n",
              "      <td>0</td>\n",
              "      <td>0.0</td>\n",
              "      <td>0.0</td>\n",
              "      <td>0.0</td>\n",
              "      <td>0.0</td>\n",
              "    </tr>\n",
              "    <tr>\n",
              "      <th>1</th>\n",
              "      <td>0</td>\n",
              "      <td>0</td>\n",
              "      <td>2</td>\n",
              "      <td>24</td>\n",
              "      <td>0</td>\n",
              "      <td>109.0</td>\n",
              "      <td>549.0</td>\n",
              "      <td>44.0</td>\n",
              "      <td>702.0</td>\n",
              "    </tr>\n",
              "    <tr>\n",
              "      <th>2</th>\n",
              "      <td>1</td>\n",
              "      <td>0</td>\n",
              "      <td>2</td>\n",
              "      <td>58</td>\n",
              "      <td>1</td>\n",
              "      <td>43.0</td>\n",
              "      <td>6715.0</td>\n",
              "      <td>49.0</td>\n",
              "      <td>6807.0</td>\n",
              "    </tr>\n",
              "    <tr>\n",
              "      <th>3</th>\n",
              "      <td>1</td>\n",
              "      <td>0</td>\n",
              "      <td>2</td>\n",
              "      <td>33</td>\n",
              "      <td>0</td>\n",
              "      <td>0.0</td>\n",
              "      <td>3329.0</td>\n",
              "      <td>193.0</td>\n",
              "      <td>3522.0</td>\n",
              "    </tr>\n",
              "    <tr>\n",
              "      <th>4</th>\n",
              "      <td>0</td>\n",
              "      <td>0</td>\n",
              "      <td>2</td>\n",
              "      <td>16</td>\n",
              "      <td>0</td>\n",
              "      <td>303.0</td>\n",
              "      <td>565.0</td>\n",
              "      <td>2.0</td>\n",
              "      <td>870.0</td>\n",
              "    </tr>\n",
              "  </tbody>\n",
              "</table>\n",
              "</div>\n",
              "      <button class=\"colab-df-convert\" onclick=\"convertToInteractive('df-fd66f20c-997f-40b3-b273-9c82c06b05ad')\"\n",
              "              title=\"Convert this dataframe to an interactive table.\"\n",
              "              style=\"display:none;\">\n",
              "        \n",
              "  <svg xmlns=\"http://www.w3.org/2000/svg\" height=\"24px\"viewBox=\"0 0 24 24\"\n",
              "       width=\"24px\">\n",
              "    <path d=\"M0 0h24v24H0V0z\" fill=\"none\"/>\n",
              "    <path d=\"M18.56 5.44l.94 2.06.94-2.06 2.06-.94-2.06-.94-.94-2.06-.94 2.06-2.06.94zm-11 1L8.5 8.5l.94-2.06 2.06-.94-2.06-.94L8.5 2.5l-.94 2.06-2.06.94zm10 10l.94 2.06.94-2.06 2.06-.94-2.06-.94-.94-2.06-.94 2.06-2.06.94z\"/><path d=\"M17.41 7.96l-1.37-1.37c-.4-.4-.92-.59-1.43-.59-.52 0-1.04.2-1.43.59L10.3 9.45l-7.72 7.72c-.78.78-.78 2.05 0 2.83L4 21.41c.39.39.9.59 1.41.59.51 0 1.02-.2 1.41-.59l7.78-7.78 2.81-2.81c.8-.78.8-2.07 0-2.86zM5.41 20L4 18.59l7.72-7.72 1.47 1.35L5.41 20z\"/>\n",
              "  </svg>\n",
              "      </button>\n",
              "      \n",
              "  <style>\n",
              "    .colab-df-container {\n",
              "      display:flex;\n",
              "      flex-wrap:wrap;\n",
              "      gap: 12px;\n",
              "    }\n",
              "\n",
              "    .colab-df-convert {\n",
              "      background-color: #E8F0FE;\n",
              "      border: none;\n",
              "      border-radius: 50%;\n",
              "      cursor: pointer;\n",
              "      display: none;\n",
              "      fill: #1967D2;\n",
              "      height: 32px;\n",
              "      padding: 0 0 0 0;\n",
              "      width: 32px;\n",
              "    }\n",
              "\n",
              "    .colab-df-convert:hover {\n",
              "      background-color: #E2EBFA;\n",
              "      box-shadow: 0px 1px 2px rgba(60, 64, 67, 0.3), 0px 1px 3px 1px rgba(60, 64, 67, 0.15);\n",
              "      fill: #174EA6;\n",
              "    }\n",
              "\n",
              "    [theme=dark] .colab-df-convert {\n",
              "      background-color: #3B4455;\n",
              "      fill: #D2E3FC;\n",
              "    }\n",
              "\n",
              "    [theme=dark] .colab-df-convert:hover {\n",
              "      background-color: #434B5C;\n",
              "      box-shadow: 0px 1px 3px 1px rgba(0, 0, 0, 0.15);\n",
              "      filter: drop-shadow(0px 1px 2px rgba(0, 0, 0, 0.3));\n",
              "      fill: #FFFFFF;\n",
              "    }\n",
              "  </style>\n",
              "\n",
              "      <script>\n",
              "        const buttonEl =\n",
              "          document.querySelector('#df-fd66f20c-997f-40b3-b273-9c82c06b05ad button.colab-df-convert');\n",
              "        buttonEl.style.display =\n",
              "          google.colab.kernel.accessAllowed ? 'block' : 'none';\n",
              "\n",
              "        async function convertToInteractive(key) {\n",
              "          const element = document.querySelector('#df-fd66f20c-997f-40b3-b273-9c82c06b05ad');\n",
              "          const dataTable =\n",
              "            await google.colab.kernel.invokeFunction('convertToInteractive',\n",
              "                                                     [key], {});\n",
              "          if (!dataTable) return;\n",
              "\n",
              "          const docLinkHtml = 'Like what you see? Visit the ' +\n",
              "            '<a target=\"_blank\" href=https://colab.research.google.com/notebooks/data_table.ipynb>data table notebook</a>'\n",
              "            + ' to learn more about interactive tables.';\n",
              "          element.innerHTML = '';\n",
              "          dataTable['output_type'] = 'display_data';\n",
              "          await google.colab.output.renderOutput(dataTable, element);\n",
              "          const docLink = document.createElement('div');\n",
              "          docLink.innerHTML = docLinkHtml;\n",
              "          element.appendChild(docLink);\n",
              "        }\n",
              "      </script>\n",
              "    </div>\n",
              "  </div>\n",
              "  "
            ]
          },
          "metadata": {},
          "execution_count": 93
        }
      ]
    },
    {
      "cell_type": "markdown",
      "source": [
        "Scaler"
      ],
      "metadata": {
        "id": "l6yrUYOu8wfN"
      }
    },
    {
      "cell_type": "code",
      "source": [
        "sc = StandardScaler() "
      ],
      "metadata": {
        "id": "3MaMGd2z8ufX"
      },
      "execution_count": null,
      "outputs": []
    },
    {
      "cell_type": "code",
      "source": [
        "var_transform = ['RoomService', 'Age', 'Spa', 'VRDeck', 'cost_of_lux_amn']\n",
        "train[var_transform] = sc.fit_transform(train[var_transform])\n",
        "test[var_transform] = sc.transform(test[var_transform])\n",
        "print(train.head())\n"
      ],
      "metadata": {
        "colab": {
          "base_uri": "https://localhost:8080/"
        },
        "id": "sVdKfp628uhh",
        "outputId": "25afc86b-a7b7-4c3c-d4d6-98b07443dee8"
      },
      "execution_count": null,
      "outputs": [
        {
          "output_type": "stream",
          "name": "stdout",
          "text": [
            "   HomePlanet  CryoSleep  Destination       Age  VIP  RoomService       Spa  \\\n",
            "0           1          0            2  0.707831    0    -0.333105 -0.270626   \n",
            "1           0          0            2 -0.334444    0    -0.168073  0.217158   \n",
            "2           1          0            2  2.028046    1    -0.268001  5.695623   \n",
            "3           1          0            2  0.290921    0    -0.333105  2.687176   \n",
            "4           0          0            2 -0.890324    0     0.125652  0.231374   \n",
            "\n",
            "     VRDeck  cost_of_lux_amn  \n",
            "0 -0.263003        -0.449452  \n",
            "1 -0.224205        -0.066015  \n",
            "2 -0.219796         3.268580  \n",
            "3 -0.092818         1.474290  \n",
            "4 -0.261240         0.025748  \n"
          ]
        }
      ]
    },
    {
      "cell_type": "markdown",
      "source": [
        "#**training model and predicting**"
      ],
      "metadata": {
        "id": "5T8z_EWPv-J2"
      }
    },
    {
      "cell_type": "code",
      "source": [
        "from xgboost.sklearn import XGBClassifier\n",
        "from sklearn.metrics import accuracy_score\n",
        "from xgboost import XGBRFClassifier\n",
        "from sklearn.ensemble import RandomForestClassifier"
      ],
      "metadata": {
        "id": "OOdwvOTJYYun"
      },
      "execution_count": null,
      "outputs": []
    },
    {
      "cell_type": "code",
      "source": [
        "# model = XGBClassifier(n_estimators=3200)\n",
        "model = XGBRFClassifier(n_estimators=3200)"
      ],
      "metadata": {
        "id": "ydF-E4LKwhuk"
      },
      "execution_count": null,
      "outputs": []
    },
    {
      "cell_type": "code",
      "source": [
        "# model = RandomForestClassifier(n_estimators=1000, max_depth=3, random_state=2)"
      ],
      "metadata": {
        "id": "zXPA4LaB4y4x"
      },
      "execution_count": null,
      "outputs": []
    },
    {
      "cell_type": "code",
      "source": [
        "model.fit(train, Y)\n",
        "predictions = model.predict(test)\n",
        "# predictions = model.predict(train)"
      ],
      "metadata": {
        "id": "Yvf-j057wUZ2"
      },
      "execution_count": null,
      "outputs": []
    },
    {
      "cell_type": "code",
      "source": [
        "# accuracy_score(Y, predictions)"
      ],
      "metadata": {
        "id": "glpyBcerwUcw"
      },
      "execution_count": null,
      "outputs": []
    },
    {
      "cell_type": "markdown",
      "source": [
        "#**Staking**"
      ],
      "metadata": {
        "id": "eD4iV6E07dkj"
      }
    },
    {
      "cell_type": "code",
      "source": [
        "import pandas as pd\n",
        "import matplotlib.pyplot as plt\n",
        "import six\n",
        "import sys\n",
        "sys.modules['sklearn.externals.six'] = six\n",
        "import mlrose\n",
        "from mlxtend.plotting import plot_confusion_matrix\n",
        "from mlxtend.classifier import StackingClassifier\n",
        "from sklearn.model_selection import train_test_split\n",
        "from sklearn.preprocessing import StandardScaler\n",
        "from sklearn.linear_model import LogisticRegression\n",
        "from sklearn.neighbors import KNeighborsClassifier\n",
        "from sklearn.naive_bayes import GaussianNB\n",
        "from sklearn.metrics import confusion_matrix\n",
        "from sklearn.metrics import accuracy_score"
      ],
      "metadata": {
        "id": "bAccopg6z24I"
      },
      "execution_count": null,
      "outputs": []
    },
    {
      "cell_type": "code",
      "source": [
        "KNC = KNeighborsClassifier()\n",
        "NB = GaussianNB()\t\t\t"
      ],
      "metadata": {
        "id": "DxwkAtST7qb7"
      },
      "execution_count": null,
      "outputs": []
    },
    {
      "cell_type": "code",
      "source": [
        "model_kNeighborsClassifier = KNC.fit(train, Y) \n",
        "pred_knc = model_kNeighborsClassifier.predict(test) "
      ],
      "metadata": {
        "id": "Szme4dz-7qez"
      },
      "execution_count": null,
      "outputs": []
    },
    {
      "cell_type": "code",
      "source": [
        "# accuracy_score(Y, pred_knc)"
      ],
      "metadata": {
        "id": "xAc4gnnv-vAA"
      },
      "execution_count": null,
      "outputs": []
    },
    {
      "cell_type": "code",
      "source": [
        "model_NaiveBayes = NB.fit(train, Y)\n",
        "pred_nb = model_NaiveBayes.predict(test)"
      ],
      "metadata": {
        "id": "QMQmm7D6_B8v"
      },
      "execution_count": null,
      "outputs": []
    },
    {
      "cell_type": "code",
      "source": [
        "# accuracy_score(Y, pred_nb)"
      ],
      "metadata": {
        "id": "JgSIzKMu_B_4"
      },
      "execution_count": null,
      "outputs": []
    },
    {
      "cell_type": "code",
      "source": [
        "lr = LogisticRegression() # meta-classifier\n",
        "clf_stack = StackingClassifier(classifiers =[KNC, NB], meta_classifier = lr, use_probas = True, use_features_in_secondary = True)"
      ],
      "metadata": {
        "id": "DfXPVnwk_CC4"
      },
      "execution_count": null,
      "outputs": []
    },
    {
      "cell_type": "code",
      "source": [
        "model_stack = clf_stack.fit(train, Y) \n",
        "pred_stack = model_stack.predict(test)\t\n"
      ],
      "metadata": {
        "id": "erlTAYaQ_CF6"
      },
      "execution_count": null,
      "outputs": []
    },
    {
      "cell_type": "code",
      "source": [
        "# accuracy_score(Y, pred_stack)"
      ],
      "metadata": {
        "id": "TCzg1PRR_CJE"
      },
      "execution_count": null,
      "outputs": []
    },
    {
      "cell_type": "markdown",
      "source": [
        "**Submission file**"
      ],
      "metadata": {
        "id": "iOBsMg0c1ELC"
      }
    },
    {
      "cell_type": "code",
      "source": [
        "\n",
        "lbl = LabelEncoder() \n",
        "lbl.fit(list(train_orig['Transported'].values)) \n",
        "predictions_inverse = lbl.inverse_transform(predictions)"
      ],
      "metadata": {
        "id": "M57_iVff2IoS"
      },
      "execution_count": null,
      "outputs": []
    },
    {
      "cell_type": "code",
      "source": [
        "output = pd.DataFrame({'PassengerId': test_orig['PassengerId'], 'Transported': predictions_inverse})\n",
        "output.to_csv('submission.csv', index=False)"
      ],
      "metadata": {
        "id": "Bc4uiYJNz26n"
      },
      "execution_count": null,
      "outputs": []
    }
  ]
}